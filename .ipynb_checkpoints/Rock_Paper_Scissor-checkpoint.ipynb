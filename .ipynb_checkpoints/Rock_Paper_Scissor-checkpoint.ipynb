{
 "cells": [
  {
   "cell_type": "code",
   "execution_count": null,
   "id": "2b157dab",
   "metadata": {},
   "outputs": [],
   "source": [
    "import random\n",
    "\n",
    "def get_choices():\n",
    "  player_choice = input(\"Enter a choice (rock, paper, scissors): \")\n",
    "  options = [\"rock\", \"paper\", \"scissors\"]\n",
    "  computer_choice = random.choice(options)\n",
    "  choices = {\"player\": player_choice, \"computer\": computer_choice}\n",
    "  return choices\n",
    "\n",
    "def check_win(player, computer):\n",
    "  print(f\"You chose {player}, computer chose {computer}\")\n",
    "  if player == computer:\n",
    "    return \"It's a tie!\"\n",
    "  elif player == \"rock\":\n",
    "    if computer == \"scissors\":\n",
    "      return \"Rock smashes scissors! You win!\"\n",
    "    else:\n",
    "      return \"Paper covers rock! You lose.\"\n",
    "  elif player == \"paper\":\n",
    "    if computer == \"rock\":\n",
    "      return \"Paper covers rock! You win!\"\n",
    "    else:\n",
    "      return \"Scissors cuts paper! You lose.\"\n",
    "  elif player == \"scissors\":\n",
    "    if computer == \"paper\":\n",
    "      return \"Scissors cuts paper! You win!\"\n",
    "    else:\n",
    "      return \"Rock smashes scissors! You lose.\"\n",
    "      \n",
    "choices = get_choices()\n",
    "result = check_win(choices[\"player\"], choices[\"computer\"])\n",
    "print(result)"
   ]
  }
 ],
 "metadata": {
  "kernelspec": {
   "display_name": "Python 3",
   "language": "python",
   "name": "python3"
  },
  "language_info": {
   "codemirror_mode": {
    "name": "ipython",
    "version": 3
   },
   "file_extension": ".py",
   "mimetype": "text/x-python",
   "name": "python",
   "nbconvert_exporter": "python",
   "pygments_lexer": "ipython3",
   "version": "3.8.8"
  }
 },
 "nbformat": 4,
 "nbformat_minor": 5
}
