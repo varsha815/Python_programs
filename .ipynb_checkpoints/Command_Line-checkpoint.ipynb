{
 "cells": [
  {
   "cell_type": "code",
   "execution_count": null,
   "id": "5ccca8e6",
   "metadata": {},
   "outputs": [],
   "source": [
    "#Accepting Arguments\n",
    "\n",
    "import argparse\n",
    "parser=argparse.ArgumentParser(\n",
    "description='This program prints the name of my dogs' \n",
    ")\n",
    "\n",
    "parser.add_argument('-c','--color',metavar='color',required=True,choices={'red','yellow'},help='the color to search for')\n",
    "args=parser.parse_args()\n",
    "print(args.color)"
   ]
  }
 ],
 "metadata": {
  "kernelspec": {
   "display_name": "Python 3",
   "language": "python",
   "name": "python3"
  },
  "language_info": {
   "codemirror_mode": {
    "name": "ipython",
    "version": 3
   },
   "file_extension": ".py",
   "mimetype": "text/x-python",
   "name": "python",
   "nbconvert_exporter": "python",
   "pygments_lexer": "ipython3",
   "version": "3.8.8"
  }
 },
 "nbformat": 4,
 "nbformat_minor": 5
}
